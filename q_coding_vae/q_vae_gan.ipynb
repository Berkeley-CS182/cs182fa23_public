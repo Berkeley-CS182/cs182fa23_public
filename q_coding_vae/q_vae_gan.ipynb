{
  "cells": [
    {
      "cell_type": "markdown",
      "metadata": {
        "id": "MOVA7zaO8Sx7"
      },
      "source": [
        "## Homework 12\n",
        "\n",
        "In this notebook, you will implement VAEs and GANs using a common framework.\n",
        "\n",
        "The code is cloned from the following GitHub repo to the **temporary** directory of your Colab runtime, **WHICH WILL BE DELETED IF YOUR RUNTIME IS DISCONNECTED**. It is recommended to edit your code offline and paste it into the Colab environment."
      ]
    },
    {
      "cell_type": "code",
      "execution_count": null,
      "metadata": {
        "id": "fl34gY-wjnJE"
      },
      "outputs": [],
      "source": [
        "%load_ext autoreload\n",
        "%autoreload 2"
      ]
    },
    {
      "cell_type": "markdown",
      "metadata": {
        "id": "AKzef8fz8SyA"
      },
      "source": [
        "### VAEs"
      ]
    },
    {
      "cell_type": "markdown",
      "metadata": {
        "id": "1Ugu2veI8SyA"
      },
      "source": [
        "##### (a) Implement the reparametrization trick in `sample_gaussian` in `utils.py`."
      ]
    },
    {
      "cell_type": "markdown",
      "metadata": {
        "id": "49JIJAJR8SyA"
      },
      "source": [
        "##### (b) Implement `negative_elbo_bound` in `models/vae.py`"
      ]
    },
    {
      "cell_type": "markdown",
      "metadata": {
        "id": "lH-Bk3UW8SyB"
      },
      "source": [
        "##### (c) Run your VAE!\n",
        "\n",
        "If you are using the shell, run:\n",
        "\n",
        "```\n",
        "python experiment.py --model vae\n",
        "```\n",
        "\n",
        "If you are on Colab, run the following cells:"
      ]
    },
    {
      "cell_type": "code",
      "execution_count": null,
      "metadata": {
        "id": "BouQlNOL8SyB"
      },
      "outputs": [],
      "source": [
        "from experiment import build_config_from_args, experiment\n",
        "\n",
        "config = build_config_from_args(is_jupyter=True)\n",
        "config.model = 'vae'\n",
        "## TIP: For debugging, feel free to use a smaller iter_max to inspect loss and samples.\n",
        "config.iter_max = 1000\n",
        "print(config)\n",
        "experiment(config)"
      ]
    },
    {
      "cell_type": "markdown",
      "metadata": {
        "id": "NJrny-m-8SyB"
      },
      "source": [
        "##### (d) Visualize samples from your VAE.\n",
        "\n",
        "Find your visualizations in `results/generated_vae_<checkpoint_id>.png`"
      ]
    },
    {
      "cell_type": "markdown",
      "metadata": {
        "id": "8QMrqC1S8SyC"
      },
      "source": [
        "### GANs"
      ]
    },
    {
      "cell_type": "markdown",
      "metadata": {
        "id": "I39JbGUU8SyC"
      },
      "source": [
        "##### (a) See PDF."
      ]
    },
    {
      "cell_type": "markdown",
      "metadata": {
        "id": "nsXIUfV88SyC"
      },
      "source": [
        "##### (b) See PDF."
      ]
    },
    {
      "cell_type": "markdown",
      "metadata": {
        "id": "2L_XPBL78SyC"
      },
      "source": [
        "##### (c) Implement GAN training and visualize your GAN!\n",
        "\n",
        "If you are using the shell, run:\n",
        "\n",
        "```\n",
        "python experiment.py --model gan\n",
        "```\n",
        "\n",
        "If you are on Colab, run the following cells:"
      ]
    },
    {
      "cell_type": "code",
      "execution_count": null,
      "metadata": {
        "id": "9VVLpPEk8SyD"
      },
      "outputs": [],
      "source": [
        "from experiment import build_config_from_args, experiment\n",
        "\n",
        "config = build_config_from_args(is_jupyter=True)\n",
        "config.model = 'gan'\n",
        "## TIP: For debugging, feel free to use a smaller iter_max to inspect loss and samples.\n",
        "# config.iter_max = 500\n",
        "print(config)\n",
        "experiment(config)"
      ]
    },
    {
      "cell_type": "markdown",
      "metadata": {
        "id": "RZeFGNaV8SyD"
      },
      "source": [
        "Find your visualizations in `results/generated_gan_<checkpoint_id>.png`"
      ]
    }
  ],
  "metadata": {
    "accelerator": "GPU",
    "colab": {
      "provenance": []
    },
    "gpuClass": "standard",
    "kernelspec": {
      "display_name": "cs182",
      "language": "python",
      "name": "python3"
    },
    "language_info": {
      "codemirror_mode": {
        "name": "ipython",
        "version": 3
      },
      "file_extension": ".py",
      "mimetype": "text/x-python",
      "name": "python",
      "nbconvert_exporter": "python",
      "pygments_lexer": "ipython3",
      "version": "3.11.5"
    },
    "orig_nbformat": 4
  },
  "nbformat": 4,
  "nbformat_minor": 0
}
